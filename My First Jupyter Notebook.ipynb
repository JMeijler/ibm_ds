{
    "nbformat_minor": 1, 
    "cells": [
        {
            "source": "# My Jupyter Notebook on IBM Data Science Experience", 
            "cell_type": "markdown", 
            "metadata": {
                "collapsed": true
            }
        }, 
        {
            "source": "**Marcos Kaian Moraes Rodrigues**  \nQuality Assurance Engineer, Aspiring Data Scientist ", 
            "cell_type": "markdown", 
            "metadata": {}
        }, 
        {
            "source": "_I am interested in data science because of its very close relation to my current experience and formation. As Quality Assurance Engineer analysing data and doing calculations and statistics is what we do everyday to get the answers._     ", 
            "cell_type": "markdown", 
            "metadata": {}
        }, 
        {
            "source": "### The following cell will demonstrate basic mathematical equation utilizing the MDAS operations", 
            "cell_type": "markdown", 
            "metadata": {}
        }, 
        {
            "execution_count": 1, 
            "cell_type": "code", 
            "metadata": {}, 
            "outputs": [
                {
                    "output_type": "stream", 
                    "name": "stdout", 
                    "text": "Add 5\nSub -1\nMul 6\nDiv 0.6666666666666666\n"
                }
            ], 
            "source": "def add(a,b):\n    return a+b\ndef sub(a,b):\n    return a-b\ndef mul(a,b):\n    return a*b\ndef div(a,b):\n    return a/b\n\na=add(2,3)\ns=sub(2,3)\nm=mul(2,3)\nd=div(2,3)\nprint(\"Add\",a)\nprint(\"Sub\",s)\nprint(\"Mul\",m)\nprint(\"Div\",d)"
        }, 
        {
            "source": "### List of Shopping Items using BULLETED LIST seperated by HORIZONTAL RULE \n* Milk\n***\n* Eggs\n***\n* Butter\n***\n* Honey\n***\n### List of Social Media Sites with HYPERLINKS\n[This is a link to Facebook](https://www.facebook.com)\n\n[This is a link to Google](https://www.google.com)\n\n[This is a link to Twitter](https://www.twitter.com)\n### List of Famous Quotes using BLOCKQUOTES\n> To be or not to be, that is the question - William Shakespeare\n\n> Twenty years from now you will be more disappointed by the things that you didn\u2019t do than by the ones you did do - Mark Twain\n\n> Those who dare to fail miserably can achieve greatly - John F. Kennedy\n\n\n~~This line is striken off because it is incorrect~~\n\nThis line has some parts highlighted especially the cities like `London`, `Tokyo`, `Newyork`.", 
            "cell_type": "markdown", 
            "metadata": {}
        }, 
        {
            "execution_count": null, 
            "cell_type": "code", 
            "metadata": {}, 
            "outputs": [], 
            "source": ""
        }
    ], 
    "metadata": {
        "kernelspec": {
            "display_name": "Python 3.5", 
            "name": "python3", 
            "language": "python"
        }, 
        "language_info": {
            "mimetype": "text/x-python", 
            "nbconvert_exporter": "python", 
            "version": "3.5.5", 
            "name": "python", 
            "file_extension": ".py", 
            "pygments_lexer": "ipython3", 
            "codemirror_mode": {
                "version": 3, 
                "name": "ipython"
            }
        }
    }, 
    "nbformat": 4
}
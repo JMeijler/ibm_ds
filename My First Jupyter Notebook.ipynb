{
    "nbformat_minor": 1, 
    "cells": [
        {
            "source": "# My Jupyter Notebook on IBM Data Science Experience", 
            "cell_type": "markdown", 
            "metadata": {
                "collapsed": true
            }
        }, 
        {
            "source": "**Marcos Kaian Moraes Rodrigues**  \nQuality Assurance Engineer, Aspiring Data Scientist ", 
            "cell_type": "markdown", 
            "metadata": {}
        }, 
        {
            "source": "_I am interested in data science because of its very close relation to my current experience and formation. As Quality Assurance Engineer analysing data and doing calculations and statistics is what we do everyday to get the answers._     ", 
            "cell_type": "markdown", 
            "metadata": {}
        }, 
        {
            "source": "### The following cell will demonstrate basic mathematical equation utilizing the MDAS operations", 
            "cell_type": "markdown", 
            "metadata": {}
        }, 
        {
            "execution_count": 2, 
            "cell_type": "code", 
            "metadata": {}, 
            "outputs": [
                {
                    "execution_count": 2, 
                    "metadata": {}, 
                    "data": {
                        "text/plain": "10.0"
                    }, 
                    "output_type": "execute_result"
                }
            ], 
            "source": "4*3/2-1+5"
        }, 
        {
            "source": "| Strikenthrough| Links       | \n|:-------------:|-----------:|\n| ~~Strike 1~~  |[1.Inline Link](https://www.google.com)|  \n| ~~Strike 2~~  |[2.Inline Link with Title](https://www.google.com \"Google's Homepage\")|\n| ~~Strike 3~~  |[3.Numbered Reference Link][1]|\n\n[1]: https://google.com\n", 
            "cell_type": "markdown", 
            "metadata": {}
        }
    ], 
    "metadata": {
        "kernelspec": {
            "display_name": "Python 3.5", 
            "name": "python3", 
            "language": "python"
        }, 
        "language_info": {
            "mimetype": "text/x-python", 
            "nbconvert_exporter": "python", 
            "version": "3.5.5", 
            "name": "python", 
            "file_extension": ".py", 
            "pygments_lexer": "ipython3", 
            "codemirror_mode": {
                "version": 3, 
                "name": "ipython"
            }
        }
    }, 
    "nbformat": 4
}